{
 "cells": [
  {
   "cell_type": "markdown",
   "id": "387fc63b",
   "metadata": {},
   "source": [
    "# DATA SCIENCE INTERN - LGMVIP -OCT 2021 - PRAGATI GUPTA\n",
    "## TASK - HANDWRITTEN EQUATION SOLVER"
   ]
  },
  {
   "cell_type": "markdown",
   "id": "a6b933f6",
   "metadata": {},
   "source": [
    "### Importing necessary libraries and modules"
   ]
  },
  {
   "cell_type": "code",
   "execution_count": 5,
   "id": "9b84db81",
   "metadata": {},
   "outputs": [
    {
     "data": {
      "text/plain": [
       "'channels_last'"
      ]
     },
     "execution_count": 5,
     "metadata": {},
     "output_type": "execute_result"
    }
   ],
   "source": [
    "import matplotlib.pyplot as plt\n",
    "%matplotlib inline\n",
    "import numpy as np\n",
    "import seaborn as sns\n",
    "import random\n",
    "from numpy import argmax\n",
    "import cv2\n",
    "from PIL import Image\n",
    "import os\n",
    "from os import listdir\n",
    "from os.path import isfile, join\n",
    "import pandas as pd\n",
    "\n",
    "import tensorflow as tf\n",
    "from tensorflow import keras\n",
    "from keras.models import Sequential\n",
    "from tensorflow.keras.utils import plot_model\n",
    "from tensorflow.keras.layers import *\n",
    "import pickle\n",
    "from keras.models import Model\n",
    "from keras.datasets import mnist\n",
    "from keras.optimizers import *\n",
    "from keras.utils import np_utils\n",
    "from keras.utils.np_utils import to_categorical\n",
    "from keras.models import model_from_json\n",
    "from keras import backend as K\n",
    "\n",
    "K.image_data_format() # substitute for: keras.backend.image_dim_ordering()"
   ]
  },
  {
   "cell_type": "code",
   "execution_count": 6,
   "id": "d078bfeb",
   "metadata": {},
   "outputs": [],
   "source": [
    "def load_images(folder):\n",
    "    train_data=[]\n",
    "    for filename in os.listdir(folder):\n",
    "        img = cv2.imread(os.path.join(folder,filename),cv2.IMREAD_GRAYSCALE)\n",
    "        img=~img\n",
    "        if img is not None:\n",
    "            ret,thresh=cv2.threshold(img,127,255,cv2.THRESH_BINARY)\n",
    "            ctrs,ret=cv2.findContours(thresh,cv2.RETR_EXTERNAL,cv2.CHAIN_APPROX_NONE)\n",
    "            cnt=sorted(ctrs, key=lambda ctr: cv2.boundingRect(ctr)[0])\n",
    "            w=int(28)\n",
    "            h=int(28)\n",
    "            maxi=0\n",
    "            for c in cnt:\n",
    "                x,y,w,h=cv2.boundingRect(c)\n",
    "                maxi=max(w*h,maxi)\n",
    "                if maxi==w*h:\n",
    "                    x_max=x\n",
    "                    y_max=y\n",
    "                    w_max=w\n",
    "                    h_max=h\n",
    "            im_crop= thresh[y_max:y_max+h_max+10, x_max:x_max+w_max+10]\n",
    "            im_resize = cv2.resize(im_crop,(28,28))\n",
    "            im_resize=np.reshape(im_resize,(784,1))\n",
    "            train_data.append(im_resize)\n",
    "    return train_data"
   ]
  },
  {
   "cell_type": "markdown",
   "id": "70fd110b",
   "metadata": {},
   "source": [
    "### appending numbers to each image to recognize them "
   ]
  },
  {
   "cell_type": "code",
   "execution_count": 7,
   "id": "b6405680",
   "metadata": {},
   "outputs": [],
   "source": [
    "data_sym = []\n",
    "\n",
    "data_sym = load_images(\"dataset math sym\\\\extracted_images\\\\0\\\\\")\n",
    "for i in range(0,len(data_sym)):\n",
    "    data_sym[i] = np.append(data_sym[i], ['0'])"
   ]
  },
  {
   "cell_type": "code",
   "execution_count": 8,
   "id": "87609320",
   "metadata": {},
   "outputs": [
    {
     "data": {
      "text/plain": [
       "5465"
      ]
     },
     "execution_count": 8,
     "metadata": {},
     "output_type": "execute_result"
    }
   ],
   "source": [
    "len(data_sym)"
   ]
  },
  {
   "cell_type": "code",
   "execution_count": 9,
   "id": "5e6d3eda",
   "metadata": {
    "scrolled": true
   },
   "outputs": [],
   "source": [
    "sym1 = load_images(\"dataset math sym\\\\extracted_images\\\\1\\\\\")\n",
    "for i in range(0,len(sym1)):\n",
    "    sym1[i] = np.append(sym1[i], ['1'])\n",
    "\n",
    "data_sym = np.concatenate((data_sym, sym1))"
   ]
  },
  {
   "cell_type": "code",
   "execution_count": 10,
   "id": "7b49fc8b",
   "metadata": {},
   "outputs": [],
   "source": [
    "sym2 = load_images(\"dataset math sym\\\\extracted_images\\\\2\\\\\")\n",
    "for i in range(0,len(sym2)):\n",
    "    sym2[i] = np.append(sym2[i], ['2'])\n",
    "\n",
    "data_sym = np.concatenate((data_sym, sym2))"
   ]
  },
  {
   "cell_type": "code",
   "execution_count": 11,
   "id": "ef8833dc",
   "metadata": {},
   "outputs": [],
   "source": [
    "sym3 = load_images(\"dataset math sym\\\\extracted_images\\\\3\\\\\")\n",
    "for i in range(0,len(sym3)):\n",
    "    sym3[i] = np.append(sym3[i], ['3'])\n",
    "\n",
    "data_sym = np.concatenate((data_sym, sym3))"
   ]
  },
  {
   "cell_type": "code",
   "execution_count": 12,
   "id": "551ccca1",
   "metadata": {},
   "outputs": [],
   "source": [
    "sym4 = load_images(\"dataset math sym\\\\extracted_images\\\\4\\\\\")\n",
    "for i in range(0,len(sym4)):\n",
    "    sym4[i] = np.append(sym4[i], ['4'])\n",
    "\n",
    "data_sym = np.concatenate((data_sym, sym4))"
   ]
  },
  {
   "cell_type": "code",
   "execution_count": 13,
   "id": "7738af57",
   "metadata": {},
   "outputs": [],
   "source": [
    "sym5 = load_images(\"dataset math sym\\\\extracted_images\\\\5\\\\\")\n",
    "for i in range(0,len(sym5)):\n",
    "    sym5[i] = np.append(sym5[i], ['5'])\n",
    "\n",
    "data_sym = np.concatenate((data_sym, sym5))"
   ]
  },
  {
   "cell_type": "code",
   "execution_count": 14,
   "id": "d04fc0bc",
   "metadata": {},
   "outputs": [],
   "source": [
    "sym6 = load_images(\"dataset math sym\\\\extracted_images\\\\6\\\\\")\n",
    "for i in range(0,len(sym6)):\n",
    "    sym6[i] = np.append(sym6[i], ['6'])\n",
    "\n",
    "data_sym = np.concatenate((data_sym, sym6))"
   ]
  },
  {
   "cell_type": "code",
   "execution_count": 15,
   "id": "360e5e02",
   "metadata": {},
   "outputs": [],
   "source": [
    "sym7 = load_images(\"dataset math sym\\\\extracted_images\\\\7\\\\\")\n",
    "for i in range(0,len(sym7)):\n",
    "    sym7[i] = np.append(sym7[i], ['7'])\n",
    "\n",
    "data_sym = np.concatenate((data_sym, sym7))"
   ]
  },
  {
   "cell_type": "code",
   "execution_count": 16,
   "id": "81624853",
   "metadata": {},
   "outputs": [],
   "source": [
    "sym8 = load_images(\"dataset math sym\\\\extracted_images\\\\8\\\\\")\n",
    "for i in range(0,len(sym8)):\n",
    "    sym8[i] = np.append(sym8[i], ['8'])\n",
    "\n",
    "data_sym = np.concatenate((data_sym, sym8))"
   ]
  },
  {
   "cell_type": "code",
   "execution_count": 17,
   "id": "b002a7f3",
   "metadata": {},
   "outputs": [],
   "source": [
    "sym9 = load_images(\"dataset math sym\\\\extracted_images\\\\9\\\\\")\n",
    "for i in range(0,len(sym9)):\n",
    "    sym9[i] = np.append(sym9[i], ['9'])\n",
    "\n",
    "data_sym = np.concatenate((data_sym, sym9))"
   ]
  },
  {
   "cell_type": "markdown",
   "id": "16f2be77",
   "metadata": {},
   "source": [
    "### + is 10 , -  is 11, = is 12, division is 13, multiplication is 14. "
   ]
  },
  {
   "cell_type": "code",
   "execution_count": 18,
   "id": "2f859851",
   "metadata": {},
   "outputs": [],
   "source": [
    "sym10 = load_images(\"dataset math sym\\\\extracted_images\\\\+\\\\\")\n",
    "for i in range(0,len(sym10)):\n",
    "    sym10[i] = np.append(sym10[i], ['10'])\n",
    "\n",
    "data_sym = np.concatenate((data_sym, sym10))"
   ]
  },
  {
   "cell_type": "code",
   "execution_count": 19,
   "id": "531c91c5",
   "metadata": {},
   "outputs": [],
   "source": [
    "sym11 = load_images(\"dataset math sym\\\\extracted_images\\\\-\\\\\")\n",
    "for i in range(0,len(sym11)):\n",
    "    sym11[i] = np.append(sym11[i], ['11'])\n",
    "\n",
    "data_sym = np.concatenate((data_sym, sym11))"
   ]
  },
  {
   "cell_type": "code",
   "execution_count": 20,
   "id": "74bc51b2",
   "metadata": {},
   "outputs": [],
   "source": [
    "sym12 = load_images(\"dataset math sym\\\\extracted_images\\\\=\\\\\")\n",
    "for i in range(0,len(sym12)):\n",
    "    sym12[i] = np.append(sym12[i], ['12'])\n",
    "\n",
    "data_sym = np.concatenate((data_sym, sym12))"
   ]
  },
  {
   "cell_type": "code",
   "execution_count": 21,
   "id": "2a36520e",
   "metadata": {},
   "outputs": [],
   "source": [
    "sym13 = load_images(\"dataset math sym\\\\extracted_images\\\\div\\\\\")\n",
    "for i in range(0,len(sym13)):\n",
    "    sym13[i] = np.append(sym13[i], ['13'])\n",
    "\n",
    "data_sym = np.concatenate((data_sym, sym13))"
   ]
  },
  {
   "cell_type": "code",
   "execution_count": 22,
   "id": "d16fa20c",
   "metadata": {},
   "outputs": [],
   "source": [
    "sym14 = load_images(\"dataset math sym\\\\extracted_images\\\\x\\\\\")\n",
    "for i in range(0,len(sym14)):\n",
    "    sym14[i] = np.append(sym14[i], ['14'])\n",
    "\n",
    "data_sym = np.concatenate((data_sym, sym14))"
   ]
  },
  {
   "cell_type": "code",
   "execution_count": 23,
   "id": "b79ac106",
   "metadata": {},
   "outputs": [
    {
     "data": {
      "text/plain": [
       "168471"
      ]
     },
     "execution_count": 23,
     "metadata": {},
     "output_type": "execute_result"
    }
   ],
   "source": [
    "len(data_sym)       # total images we have"
   ]
  },
  {
   "cell_type": "code",
   "execution_count": 24,
   "id": "ead021d4",
   "metadata": {},
   "outputs": [],
   "source": [
    "df = pd.DataFrame(data_sym,index=None)\n",
    "df.to_csv('new_dataset.csv',index=False)"
   ]
  },
  {
   "cell_type": "markdown",
   "id": "ca08f325",
   "metadata": {},
   "source": [
    "### training"
   ]
  },
  {
   "cell_type": "code",
   "execution_count": 25,
   "id": "5ca110ca",
   "metadata": {},
   "outputs": [
    {
     "data": {
      "text/html": [
       "<div>\n",
       "<style scoped>\n",
       "    .dataframe tbody tr th:only-of-type {\n",
       "        vertical-align: middle;\n",
       "    }\n",
       "\n",
       "    .dataframe tbody tr th {\n",
       "        vertical-align: top;\n",
       "    }\n",
       "\n",
       "    .dataframe thead th {\n",
       "        text-align: right;\n",
       "    }\n",
       "</style>\n",
       "<table border=\"1\" class=\"dataframe\">\n",
       "  <thead>\n",
       "    <tr style=\"text-align: right;\">\n",
       "      <th></th>\n",
       "      <th>0</th>\n",
       "      <th>1</th>\n",
       "      <th>2</th>\n",
       "      <th>3</th>\n",
       "      <th>4</th>\n",
       "      <th>5</th>\n",
       "      <th>6</th>\n",
       "      <th>7</th>\n",
       "      <th>8</th>\n",
       "      <th>9</th>\n",
       "      <th>...</th>\n",
       "      <th>775</th>\n",
       "      <th>776</th>\n",
       "      <th>777</th>\n",
       "      <th>778</th>\n",
       "      <th>779</th>\n",
       "      <th>780</th>\n",
       "      <th>781</th>\n",
       "      <th>782</th>\n",
       "      <th>783</th>\n",
       "      <th>784</th>\n",
       "    </tr>\n",
       "  </thead>\n",
       "  <tbody>\n",
       "    <tr>\n",
       "      <th>167626</th>\n",
       "      <td>97</td>\n",
       "      <td>118</td>\n",
       "      <td>1</td>\n",
       "      <td>0</td>\n",
       "      <td>0</td>\n",
       "      <td>0</td>\n",
       "      <td>0</td>\n",
       "      <td>0</td>\n",
       "      <td>0</td>\n",
       "      <td>0</td>\n",
       "      <td>...</td>\n",
       "      <td>0</td>\n",
       "      <td>0</td>\n",
       "      <td>0</td>\n",
       "      <td>0</td>\n",
       "      <td>0</td>\n",
       "      <td>0</td>\n",
       "      <td>0</td>\n",
       "      <td>0</td>\n",
       "      <td>0</td>\n",
       "      <td>14</td>\n",
       "    </tr>\n",
       "    <tr>\n",
       "      <th>142874</th>\n",
       "      <td>255</td>\n",
       "      <td>255</td>\n",
       "      <td>255</td>\n",
       "      <td>255</td>\n",
       "      <td>255</td>\n",
       "      <td>255</td>\n",
       "      <td>255</td>\n",
       "      <td>255</td>\n",
       "      <td>255</td>\n",
       "      <td>255</td>\n",
       "      <td>...</td>\n",
       "      <td>0</td>\n",
       "      <td>0</td>\n",
       "      <td>0</td>\n",
       "      <td>0</td>\n",
       "      <td>0</td>\n",
       "      <td>0</td>\n",
       "      <td>0</td>\n",
       "      <td>0</td>\n",
       "      <td>0</td>\n",
       "      <td>11</td>\n",
       "    </tr>\n",
       "    <tr>\n",
       "      <th>39156</th>\n",
       "      <td>0</td>\n",
       "      <td>0</td>\n",
       "      <td>0</td>\n",
       "      <td>77</td>\n",
       "      <td>154</td>\n",
       "      <td>178</td>\n",
       "      <td>178</td>\n",
       "      <td>178</td>\n",
       "      <td>178</td>\n",
       "      <td>178</td>\n",
       "      <td>...</td>\n",
       "      <td>0</td>\n",
       "      <td>0</td>\n",
       "      <td>0</td>\n",
       "      <td>0</td>\n",
       "      <td>0</td>\n",
       "      <td>0</td>\n",
       "      <td>0</td>\n",
       "      <td>0</td>\n",
       "      <td>0</td>\n",
       "      <td>2</td>\n",
       "    </tr>\n",
       "    <tr>\n",
       "      <th>158739</th>\n",
       "      <td>0</td>\n",
       "      <td>0</td>\n",
       "      <td>0</td>\n",
       "      <td>0</td>\n",
       "      <td>0</td>\n",
       "      <td>0</td>\n",
       "      <td>0</td>\n",
       "      <td>0</td>\n",
       "      <td>0</td>\n",
       "      <td>0</td>\n",
       "      <td>...</td>\n",
       "      <td>0</td>\n",
       "      <td>0</td>\n",
       "      <td>0</td>\n",
       "      <td>0</td>\n",
       "      <td>0</td>\n",
       "      <td>0</td>\n",
       "      <td>0</td>\n",
       "      <td>0</td>\n",
       "      <td>0</td>\n",
       "      <td>12</td>\n",
       "    </tr>\n",
       "    <tr>\n",
       "      <th>116932</th>\n",
       "      <td>0</td>\n",
       "      <td>0</td>\n",
       "      <td>0</td>\n",
       "      <td>0</td>\n",
       "      <td>0</td>\n",
       "      <td>0</td>\n",
       "      <td>0</td>\n",
       "      <td>0</td>\n",
       "      <td>0</td>\n",
       "      <td>79</td>\n",
       "      <td>...</td>\n",
       "      <td>0</td>\n",
       "      <td>0</td>\n",
       "      <td>0</td>\n",
       "      <td>0</td>\n",
       "      <td>0</td>\n",
       "      <td>0</td>\n",
       "      <td>0</td>\n",
       "      <td>0</td>\n",
       "      <td>0</td>\n",
       "      <td>10</td>\n",
       "    </tr>\n",
       "    <tr>\n",
       "      <th>141270</th>\n",
       "      <td>0</td>\n",
       "      <td>0</td>\n",
       "      <td>0</td>\n",
       "      <td>0</td>\n",
       "      <td>0</td>\n",
       "      <td>0</td>\n",
       "      <td>0</td>\n",
       "      <td>0</td>\n",
       "      <td>0</td>\n",
       "      <td>0</td>\n",
       "      <td>...</td>\n",
       "      <td>0</td>\n",
       "      <td>0</td>\n",
       "      <td>0</td>\n",
       "      <td>0</td>\n",
       "      <td>0</td>\n",
       "      <td>0</td>\n",
       "      <td>0</td>\n",
       "      <td>0</td>\n",
       "      <td>0</td>\n",
       "      <td>11</td>\n",
       "    </tr>\n",
       "    <tr>\n",
       "      <th>31676</th>\n",
       "      <td>255</td>\n",
       "      <td>218</td>\n",
       "      <td>109</td>\n",
       "      <td>0</td>\n",
       "      <td>0</td>\n",
       "      <td>0</td>\n",
       "      <td>0</td>\n",
       "      <td>0</td>\n",
       "      <td>0</td>\n",
       "      <td>0</td>\n",
       "      <td>...</td>\n",
       "      <td>0</td>\n",
       "      <td>0</td>\n",
       "      <td>0</td>\n",
       "      <td>0</td>\n",
       "      <td>0</td>\n",
       "      <td>0</td>\n",
       "      <td>0</td>\n",
       "      <td>0</td>\n",
       "      <td>0</td>\n",
       "      <td>1</td>\n",
       "    </tr>\n",
       "    <tr>\n",
       "      <th>151946</th>\n",
       "      <td>0</td>\n",
       "      <td>0</td>\n",
       "      <td>0</td>\n",
       "      <td>0</td>\n",
       "      <td>0</td>\n",
       "      <td>0</td>\n",
       "      <td>0</td>\n",
       "      <td>0</td>\n",
       "      <td>0</td>\n",
       "      <td>0</td>\n",
       "      <td>...</td>\n",
       "      <td>0</td>\n",
       "      <td>0</td>\n",
       "      <td>0</td>\n",
       "      <td>0</td>\n",
       "      <td>0</td>\n",
       "      <td>0</td>\n",
       "      <td>0</td>\n",
       "      <td>0</td>\n",
       "      <td>0</td>\n",
       "      <td>12</td>\n",
       "    </tr>\n",
       "    <tr>\n",
       "      <th>85577</th>\n",
       "      <td>0</td>\n",
       "      <td>0</td>\n",
       "      <td>0</td>\n",
       "      <td>0</td>\n",
       "      <td>0</td>\n",
       "      <td>0</td>\n",
       "      <td>0</td>\n",
       "      <td>0</td>\n",
       "      <td>0</td>\n",
       "      <td>0</td>\n",
       "      <td>...</td>\n",
       "      <td>0</td>\n",
       "      <td>0</td>\n",
       "      <td>0</td>\n",
       "      <td>0</td>\n",
       "      <td>0</td>\n",
       "      <td>0</td>\n",
       "      <td>0</td>\n",
       "      <td>0</td>\n",
       "      <td>0</td>\n",
       "      <td>7</td>\n",
       "    </tr>\n",
       "    <tr>\n",
       "      <th>78423</th>\n",
       "      <td>0</td>\n",
       "      <td>0</td>\n",
       "      <td>0</td>\n",
       "      <td>0</td>\n",
       "      <td>0</td>\n",
       "      <td>0</td>\n",
       "      <td>232</td>\n",
       "      <td>0</td>\n",
       "      <td>0</td>\n",
       "      <td>0</td>\n",
       "      <td>...</td>\n",
       "      <td>0</td>\n",
       "      <td>0</td>\n",
       "      <td>0</td>\n",
       "      <td>0</td>\n",
       "      <td>0</td>\n",
       "      <td>0</td>\n",
       "      <td>0</td>\n",
       "      <td>0</td>\n",
       "      <td>0</td>\n",
       "      <td>5</td>\n",
       "    </tr>\n",
       "  </tbody>\n",
       "</table>\n",
       "<p>10 rows × 785 columns</p>\n",
       "</div>"
      ],
      "text/plain": [
       "          0    1    2    3    4    5    6    7    8    9  ...  775  776  777  \\\n",
       "167626   97  118    1    0    0    0    0    0    0    0  ...    0    0    0   \n",
       "142874  255  255  255  255  255  255  255  255  255  255  ...    0    0    0   \n",
       "39156     0    0    0   77  154  178  178  178  178  178  ...    0    0    0   \n",
       "158739    0    0    0    0    0    0    0    0    0    0  ...    0    0    0   \n",
       "116932    0    0    0    0    0    0    0    0    0   79  ...    0    0    0   \n",
       "141270    0    0    0    0    0    0    0    0    0    0  ...    0    0    0   \n",
       "31676   255  218  109    0    0    0    0    0    0    0  ...    0    0    0   \n",
       "151946    0    0    0    0    0    0    0    0    0    0  ...    0    0    0   \n",
       "85577     0    0    0    0    0    0    0    0    0    0  ...    0    0    0   \n",
       "78423     0    0    0    0    0    0  232    0    0    0  ...    0    0    0   \n",
       "\n",
       "        778  779  780  781  782  783  784  \n",
       "167626    0    0    0    0    0    0   14  \n",
       "142874    0    0    0    0    0    0   11  \n",
       "39156     0    0    0    0    0    0    2  \n",
       "158739    0    0    0    0    0    0   12  \n",
       "116932    0    0    0    0    0    0   10  \n",
       "141270    0    0    0    0    0    0   11  \n",
       "31676     0    0    0    0    0    0    1  \n",
       "151946    0    0    0    0    0    0   12  \n",
       "85577     0    0    0    0    0    0    7  \n",
       "78423     0    0    0    0    0    0    5  \n",
       "\n",
       "[10 rows x 785 columns]"
      ]
     },
     "execution_count": 25,
     "metadata": {},
     "output_type": "execute_result"
    }
   ],
   "source": [
    "df_new = pd.read_csv('new_dataset.csv', index_col=False)\n",
    "df_new.sample(10)"
   ]
  },
  {
   "cell_type": "code",
   "execution_count": 26,
   "id": "bc294ee1",
   "metadata": {},
   "outputs": [
    {
     "data": {
      "text/plain": [
       "(168471, 785)"
      ]
     },
     "execution_count": 26,
     "metadata": {},
     "output_type": "execute_result"
    }
   ],
   "source": [
    "df_new.shape"
   ]
  },
  {
   "cell_type": "code",
   "execution_count": 27,
   "id": "e10461a6",
   "metadata": {},
   "outputs": [],
   "source": [
    "# col no 784 recognizes each img as which number the img represents\n",
    "num_label = df_new[['784']]\n",
    "\n",
    "num_label = np.array(num_label)\n",
    "\n",
    "#  dropping col no 784 from original dataset\n",
    "df_new.drop(df_new.columns[[784]],axis=1,inplace=True)"
   ]
  },
  {
   "cell_type": "code",
   "execution_count": 28,
   "id": "2a412032",
   "metadata": {},
   "outputs": [
    {
     "name": "stdout",
     "output_type": "stream",
     "text": [
      "[[1. 0. 0. ... 0. 0. 0.]\n",
      " [1. 0. 0. ... 0. 0. 0.]\n",
      " [1. 0. 0. ... 0. 0. 0.]\n",
      " ...\n",
      " [0. 0. 0. ... 0. 0. 1.]\n",
      " [0. 0. 0. ... 0. 0. 1.]\n",
      " [0. 0. 0. ... 0. 0. 1.]]\n"
     ]
    }
   ],
   "source": [
    "cat=to_categorical(num_label ,num_classes = 15)  # classes was 13\n",
    "print(cat)"
   ]
  },
  {
   "cell_type": "code",
   "execution_count": 29,
   "id": "5be137e2",
   "metadata": {},
   "outputs": [
    {
     "data": {
      "text/plain": [
       "(168471, 15)"
      ]
     },
     "execution_count": 29,
     "metadata": {},
     "output_type": "execute_result"
    }
   ],
   "source": [
    "cat.shape"
   ]
  },
  {
   "cell_type": "code",
   "execution_count": 38,
   "id": "bb965563",
   "metadata": {},
   "outputs": [],
   "source": [
    "l=[]\n",
    "for i in range(50000):\n",
    "    l.append(np.array(df_new[i:i+1]).reshape(1,28,28))\n",
    "    \n",
    "np.random.seed(7)\n",
    "x_train = df_new.to_numpy().reshape(df_new.to_numpy().shape[0],28,28,1)"
   ]
  },
  {
   "cell_type": "code",
   "execution_count": 39,
   "id": "659cc0fc",
   "metadata": {},
   "outputs": [
    {
     "name": "stdout",
     "output_type": "stream",
     "text": [
      "Epoch 1/5\n",
      "843/843 [==============================] - 51s 60ms/step - loss: 0.5441 - accuracy: 0.8451\n",
      "Epoch 2/5\n",
      "843/843 [==============================] - 49s 59ms/step - loss: 0.1951 - accuracy: 0.9279\n",
      "Epoch 3/5\n",
      "843/843 [==============================] - 47s 55ms/step - loss: 0.1584 - accuracy: 0.9402\n",
      "Epoch 4/5\n",
      "843/843 [==============================] - 49s 59ms/step - loss: 0.1398 - accuracy: 0.9468\n",
      "Epoch 5/5\n",
      "843/843 [==============================] - 49s 58ms/step - loss: 0.1296 - accuracy: 0.9502\n"
     ]
    },
    {
     "data": {
      "text/plain": [
       "<keras.callbacks.History at 0x24a13d80550>"
      ]
     },
     "execution_count": 39,
     "metadata": {},
     "output_type": "execute_result"
    }
   ],
   "source": [
    "model = Sequential()\n",
    "model.add(Conv2D(32, (3,3), input_shape=(28, 28,1), activation='relu',padding='same'))\n",
    "model.add(MaxPooling2D(pool_size=(2, 2)))\n",
    "model.add(Conv2D(15, (3, 3), activation='relu'))\n",
    "model.add(MaxPooling2D(pool_size=(2, 2)))\n",
    "model.add(Dropout(0.2))\n",
    "model.add(Flatten())\n",
    "model.add(Dense(128, activation='relu'))\n",
    "model.add(Dense(50, activation='relu'))\n",
    "model.add(Dense(15, activation='softmax'))   # was earlier 13\n",
    "model.compile(loss='categorical_crossentropy', optimizer='adam', metrics=['accuracy'])\n",
    "model.fit(x_train, cat, epochs=5, batch_size=200,shuffle=True,verbose=1)"
   ]
  },
  {
   "cell_type": "code",
   "execution_count": 41,
   "id": "19758eff",
   "metadata": {},
   "outputs": [],
   "source": [
    "json_f=  model.to_json()\n",
    "with open(\"task3_model.json\", \"w\") as json_file:\n",
    "    json_file.write(json_f)\n",
    "model.save_weights(\"task3_model.h5\")"
   ]
  },
  {
   "cell_type": "markdown",
   "id": "e4a39ec9",
   "metadata": {},
   "source": [
    "### loading json file"
   ]
  },
  {
   "cell_type": "code",
   "execution_count": 56,
   "id": "0dbb5522",
   "metadata": {},
   "outputs": [],
   "source": [
    "json_file = open('task3_model.json', 'r')\n",
    "file2 = json_file.read()\n",
    "json_file.close()\n",
    "file3 = model_from_json(file2)\n",
    "\n",
    "file3.load_weights(\"task3_model.h5\")"
   ]
  },
  {
   "cell_type": "code",
   "execution_count": 91,
   "id": "b0ce8386",
   "metadata": {},
   "outputs": [],
   "source": [
    "def check_img(img):\n",
    "    if img is not None:\n",
    "        img=~img\n",
    "        ret,thresh=cv2.threshold(img,127,255,cv2.THRESH_BINARY)\n",
    "        ctrs,ret=cv2.findContours(thresh,cv2.RETR_TREE,cv2.CHAIN_APPROX_SIMPLE)\n",
    "        cnt=sorted(ctrs, key=lambda ctr: cv2.boundingRect(ctr)[0])\n",
    "        w=int(28)\n",
    "        h=int(28)\n",
    "        train_data=[]\n",
    "        rects=[]\n",
    "        for c in cnt :\n",
    "            x,y,w,h= cv2.boundingRect(c)\n",
    "            rect=[x,y,w,h]\n",
    "            rects.append(rect)\n",
    "        bool_rect=[]\n",
    "        for r in rects:\n",
    "            l=[]\n",
    "            for rec in rects:\n",
    "                flag=0\n",
    "                if rec!=r:\n",
    "                    if r[0]<(rec[0]+rec[2]+10) and rec[0]<(r[0]+r[2]+10) and r[1]<(rec[1]+rec[3]+10) and rec[1]<(r[1]+r[3]+10):\n",
    "                        flag=1\n",
    "                    l.append(flag)\n",
    "                if rec==r:\n",
    "                    l.append(0)\n",
    "            bool_rect.append(l)\n",
    "        dump_rect=[]\n",
    "        for i in range(0,len(cnt)):\n",
    "            for j in range(0,len(cnt)):\n",
    "                if bool_rect[i][j]==1:\n",
    "                    area1=rects[i][2]*rects[i][3]\n",
    "                    area2=rects[j][2]*rects[j][3]\n",
    "                    if(area1==min(area1,area2)):\n",
    "                        dump_rect.append(rects[i])\n",
    "        final_rect=[i for i in rects if i not in dump_rect]\n",
    "        for r in final_rect:\n",
    "            x=r[0]\n",
    "            y=r[1]\n",
    "            w=r[2]\n",
    "            h=r[3]\n",
    "            im_crop =thresh[y:y+h+10,x:x+w+10]\n",
    "            im_resize = cv2.resize(im_crop,(28,28))\n",
    "            im_resize=np.reshape(im_resize,(28,28,1))\n",
    "            train_data.append(im_resize)\n",
    "    s=''\n",
    "    for i in range(len(train_data)):\n",
    "        train_data[i]=np.array(train_data[i])\n",
    "        train_data[i]=train_data[i].reshape(1,28,28,1)\n",
    "        result=np.argmax(file3.predict(train_data[i]), axis=-1)\n",
    "        if(result[0]==10):\n",
    "            s=s+'+'\n",
    "        if(result[0]==11):\n",
    "            s=s+'-'\n",
    "        if(result[0]==12):\n",
    "            s=s+'='\n",
    "        if(result[0]==13):\n",
    "            s=s+'/'\n",
    "        if(result[0]==14):\n",
    "            s=s+'*'\n",
    "        if(result[0]==0):\n",
    "            s=s+'0'\n",
    "        if(result[0]==1):\n",
    "            s=s+'1'\n",
    "        if(result[0]==2):\n",
    "            s=s+'2'\n",
    "        if(result[0]==3):\n",
    "            s=s+'3'\n",
    "        if(result[0]==4):\n",
    "            s=s+'4'\n",
    "        if(result[0]==5):\n",
    "            s=s+'5'\n",
    "        if(result[0]==6):\n",
    "            s=s+'6'\n",
    "        if(result[0]==7):\n",
    "            s=s+'7'\n",
    "        if(result[0]==8):\n",
    "            s=s+'8'\n",
    "        if(result[0]==9):\n",
    "            s=s+'9'\n",
    "    \n",
    "    #print(s)\n",
    "    return s"
   ]
  },
  {
   "cell_type": "code",
   "execution_count": 92,
   "id": "15d377eb",
   "metadata": {},
   "outputs": [],
   "source": [
    "img1 = cv2.imread('testimg1.png',cv2.IMREAD_GRAYSCALE)\n",
    "s = check_img(img1)"
   ]
  },
  {
   "cell_type": "code",
   "execution_count": 93,
   "id": "f761798c",
   "metadata": {},
   "outputs": [
    {
     "name": "stdout",
     "output_type": "stream",
     "text": [
      "546+320\n"
     ]
    }
   ],
   "source": [
    "print(s)"
   ]
  },
  {
   "cell_type": "code",
   "execution_count": 94,
   "id": "1d65f414",
   "metadata": {},
   "outputs": [
    {
     "name": "stdout",
     "output_type": "stream",
     "text": [
      "866\n"
     ]
    }
   ],
   "source": [
    "import re\n",
    "\n",
    "res = sum(map(int, re.findall(r'[+-]?\\d+', str(s))))\n",
    "\n",
    "print(str(res))"
   ]
  },
  {
   "cell_type": "code",
   "execution_count": 95,
   "id": "30e485c8",
   "metadata": {},
   "outputs": [
    {
     "name": "stdout",
     "output_type": "stream",
     "text": [
      "88*22\n"
     ]
    },
    {
     "data": {
      "text/plain": [
       "1936"
      ]
     },
     "execution_count": 95,
     "metadata": {},
     "output_type": "execute_result"
    }
   ],
   "source": [
    "img2= cv2.imread('testimg2.png',cv2.IMREAD_GRAYSCALE)\n",
    "s2 = check_img(img2)\n",
    "print(s2)\n",
    "eval(s2)"
   ]
  },
  {
   "cell_type": "code",
   "execution_count": null,
   "id": "3b493e59",
   "metadata": {},
   "outputs": [],
   "source": []
  },
  {
   "cell_type": "code",
   "execution_count": null,
   "id": "fcf29140",
   "metadata": {},
   "outputs": [],
   "source": []
  }
 ],
 "metadata": {
  "kernelspec": {
   "display_name": "Python 3",
   "language": "python",
   "name": "python3"
  },
  "language_info": {
   "codemirror_mode": {
    "name": "ipython",
    "version": 3
   },
   "file_extension": ".py",
   "mimetype": "text/x-python",
   "name": "python",
   "nbconvert_exporter": "python",
   "pygments_lexer": "ipython3",
   "version": "3.8.8"
  }
 },
 "nbformat": 4,
 "nbformat_minor": 5
}
